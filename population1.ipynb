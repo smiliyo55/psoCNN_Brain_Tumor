{
  "nbformat": 4,
  "nbformat_minor": 0,
  "metadata": {
    "colab": {
      "provenance": [],
      "authorship_tag": "ABX9TyMOXIqhErA2XdRzhldidIuG",
      "include_colab_link": true
    },
    "kernelspec": {
      "name": "python3",
      "display_name": "Python 3"
    },
    "language_info": {
      "name": "python"
    }
  },
  "cells": [
    {
      "cell_type": "markdown",
      "metadata": {
        "id": "view-in-github",
        "colab_type": "text"
      },
      "source": [
        "<a href=\"https://colab.research.google.com/github/smiliyo55/psoCNN_Brain_Tumor/blob/main/population1.ipynb\" target=\"_parent\"><img src=\"https://colab.research.google.com/assets/colab-badge.svg\" alt=\"Open In Colab\"/></a>"
      ]
    },
    {
      "cell_type": "code",
      "source": [
        "!pip install import_ipynb\n",
        "import import_ipynb"
      ],
      "metadata": {
        "id": "11ionE8vkxPh"
      },
      "execution_count": null,
      "outputs": []
    },
    {
      "cell_type": "code",
      "execution_count": null,
      "metadata": {
        "id": "GRpEG2I-j1y9"
      },
      "outputs": [],
      "source": [
        "import particle1"
      ]
    },
    {
      "cell_type": "code",
      "source": [
        "class Population:\n",
        "    def __init__(self, pop_size, min_layer, max_layer, input_width, input_height, input_channels,\n",
        "                 conv_prob, pool_prob, fc_prob, max_conv_kernel, max_out_ch, max_fc_neurons, output_dim):\n",
        "        # Compute maximum number of pooling layers for any given particle\n",
        "        max_pool_layers = 0\n",
        "        in_w = input_width\n",
        "\n",
        "        while in_w > 7:\n",
        "            max_pool_layers += 1\n",
        "            in_w = in_w/2\n",
        "\n",
        "        self.particle = []\n",
        "        for i in range(pop_size):\n",
        "            self.particle.append(particle1.Particle(min_layer, max_layer, max_pool_layers, input_width, input_height, input_channels,\n",
        "                                          conv_prob, pool_prob, fc_prob, max_conv_kernel, max_out_ch, max_fc_neurons, output_dim))"
      ],
      "metadata": {
        "id": "eLGlyQmLkPS6"
      },
      "execution_count": null,
      "outputs": []
    }
  ]
}